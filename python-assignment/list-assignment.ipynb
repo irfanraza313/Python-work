{
 "cells": [
  {
   "cell_type": "code",
   "execution_count": 25,
   "metadata": {},
   "outputs": [
    {
     "name": "stdout",
     "output_type": "stream",
     "text": [
      "Asim\n",
      "Imran\n",
      "Abuzar\n",
      "Zamin\n"
     ]
    }
   ],
   "source": [
    "# Task No. 3-1\n",
    "names = ['Asim', 'Imran', 'Abuzar', 'Zamin'] \n",
    "for name in names:\n",
    "     print(f\"{name}\")"
   ]
  },
  {
   "cell_type": "code",
   "execution_count": 27,
   "metadata": {},
   "outputs": [
    {
     "name": "stdout",
     "output_type": "stream",
     "text": [
      "Asim, good to see you. \n",
      "Imran, good to see you. \n",
      "Abuzar, good to see you. \n",
      "Zamin, good to see you. \n"
     ]
    }
   ],
   "source": [
    "# Task No. 3-2 \n",
    "names = ['Asim', 'Imran', 'Abuzar', 'Zamin'] \n",
    "for name in names:\n",
    "    print(f\"{name}, good to see you. \")\n"
   ]
  },
  {
   "cell_type": "code",
   "execution_count": 26,
   "metadata": {},
   "outputs": [
    {
     "name": "stdout",
     "output_type": "stream",
     "text": [
      "It is my dream to own a Haval.\n",
      "It is my dream to own a Hummer H1.\n",
      "It is my dream to own a BMW M3.\n",
      "It is my dream to own a KAWASAKI Ninja.\n"
     ]
    }
   ],
   "source": [
    "#Task No. 3-3\n",
    "favorite_transportation = ['Haval', 'Hummer H1', 'BMW M3', 'KAWASAKI Ninja']\n",
    "for transport in favorite_transportation:\n",
    "    print(f\"It is my dream to own a {transport}.\")"
   ]
  },
  {
   "cell_type": "code",
   "execution_count": 28,
   "metadata": {},
   "outputs": [
    {
     "name": "stdout",
     "output_type": "stream",
     "text": [
      "Ibrahim Hadi, you're invited to dinner at my place on Saturday, August 18th.\n",
      "Ali Naqvi, you're invited to dinner at my place on Saturday, August 18th.\n",
      "Mahdi, you're invited to dinner at my place on Saturday, August 18th.\n"
     ]
    }
   ],
   "source": [
    "#Task No. 3-4\n",
    "guest_list = ['Ibrahim Hadi', 'Ali Naqvi', 'Mahdi']\n",
    "for guest in guest_list:\n",
    "    print(f\"{guest}, you're invited to dinner at my place on Saturday, August 18th.\")"
   ]
  },
  {
   "cell_type": "code",
   "execution_count": 30,
   "metadata": {},
   "outputs": [
    {
     "name": "stdout",
     "output_type": "stream",
     "text": [
      "Ibrahim Hadi, you're invited to dinner at my place on Saturday, August 18th.\n",
      "Ali Naqvi, you're invited to dinner at my place on Saturday, August 18th.\n",
      "Mahdi, you're invited to dinner at my place on Saturday, August 18th.\n",
      "\n",
      "Unfortunately, Ali Naqvi can't make it to the dinner.\n",
      "Ibrahim Hadi, you're invited to dinner at my place on Saturday, August 18th. \n",
      "Sardar Qasim, you're invited to dinner at my place on Saturday, August 18th. \n",
      "Mahdi, you're invited to dinner at my place on Saturday, August 18th. \n"
     ]
    }
   ],
   "source": [
    "Task No. 3-5\n",
    "guest_list = ['Ibrahim Hadi', 'Ali Naqvi', 'Mahdi']\n",
    "# original invitation\n",
    "for guest in guest_list:\n",
    "     print(f\"{guest}, you're invited to dinner at my place on Saturday, August 18th.\")  \n",
    "     \n",
    "     # one guest  can't make it \n",
    "print(f\"\\nUnfortunately, {guest_list[1]} can't make it to the dinner.\")\n",
    "# Replace the guest\n",
    "guest_list[1] = 'Sardar Qasim'\n",
    " # New invitation\n",
    "for guest in guest_list:\n",
    "      print(f\"{guest}, you're invited to dinner at my place on Saturday, August 18th. \")               "
   ]
  },
  {
   "cell_type": "code",
   "execution_count": 23,
   "metadata": {},
   "outputs": [
    {
     "name": "stdout",
     "output_type": "stream",
     "text": [
      "Dear all, i found a bigger table, so inviting more friends.\n",
      "Mohsin, you're invited to dinner at my place on Saturday, August 18th. \n",
      "Ibrahim Hadi, you're invited to dinner at my place on Saturday, August 18th. \n",
      "Junaid, you're invited to dinner at my place on Saturday, August 18th. \n",
      "Sardar Qasim, you're invited to dinner at my place on Saturday, August 18th. \n",
      "Mahdi, you're invited to dinner at my place on Saturday, August 18th. \n",
      "Saleem, you're invited to dinner at my place on Saturday, August 18th. \n"
     ]
    }
   ],
   "source": [
    "Task No. 3-6\n",
    "guest_list =  ['Ibrahim Hadi', 'Sardar Qasim', 'Mahdi']\n",
    "print(\"Dear all, i found a bigger table, so inviting more friends.\")\n",
    "# Adding three names in statrting, middle and end of the list,.\n",
    "guest_list.insert(0, \"Mohsin\")\n",
    "guest_list.insert(2, \"Junaid\")\n",
    "guest_list.append(\"Saleem\")\n",
    " # New invitations\n",
    "for guest in guest_list:\n",
    "      print(f\"{guest}, you're invited to dinner at my place on Saturday, August 18th. \")"
   ]
  },
  {
   "cell_type": "code",
   "execution_count": 19,
   "metadata": {},
   "outputs": [
    {
     "name": "stdout",
     "output_type": "stream",
     "text": [
      "\n",
      "Sorry, I can invite only two people for dinner.\n",
      "Sorry Saleem, I can't invite you to dinner.\n",
      "Sorry Mahdi, I can't invite you to dinner.\n",
      "Sorry Sardar Qasim, I can't invite you to dinner.\n",
      "Sorry Junaid, I can't invite you to dinner.\n",
      "Mohsin, You are still invited to dinner.\n",
      "Ibrahim Hadi, You are still invited to dinner.\n",
      "empty list: []\n"
     ]
    }
   ],
   "source": [
    "# Task no. 3-7\n",
    "guest_list= ['Mohsin', 'Ibrahim Hadi', 'Junaid', 'Sardar Qasim', 'Mahdi', 'Saleem']\n",
    "  # message that saying i can invite only two people.\n",
    "print(\"Sorry, I can invite only two people for dinner.\")\n",
    "    # remove the guest until two remain\n",
    "while len(guest_list) > 2 : \n",
    "      removed_guest = guest_list.pop( )\n",
    "      print (f\"Sorry {removed_guest}, I can't invite you to dinner.\")\n",
    "         # Inform the remaining guest that they are still invited.\n",
    "for guest in guest_list:\n",
    "       print(f\"{guest}, You are still invited to dinner.\")\n",
    "       # remove the last two names to have a empty list\n",
    "del guest_list[0]\n",
    "del guest_list[0]\n",
    "print(\"empty list:\", guest_list)"
   ]
  },
  {
   "cell_type": "code",
   "execution_count": 43,
   "metadata": {},
   "outputs": [
    {
     "name": "stdout",
     "output_type": "stream",
     "text": [
      "Original order: ['KARBALA', 'AL AQSA', 'Volcanic Island', 'Great Barrier Reef', 'Shogran']\n",
      "Alphabetical order: ['AL AQSA', 'Great Barrier Reef', 'KARBALA', 'Shogran', 'Volcanic Island']\n",
      "Original order after sorted(): ['KARBALA', 'AL AQSA', 'Volcanic Island', 'Great Barrier Reef', 'Shogran']\n",
      "Reverse alphabetical order: ['Volcanic Island', 'Shogran', 'KARBALA', 'Great Barrier Reef', 'AL AQSA']\n",
      "Original order after reverse sorted(): ['KARBALA', 'AL AQSA', 'Volcanic Island', 'Great Barrier Reef', 'Shogran']\n",
      "Order after reverse(): ['Shogran', 'Great Barrier Reef', 'Volcanic Island', 'AL AQSA', 'KARBALA']\n",
      "Order after reversing again: ['KARBALA', 'AL AQSA', 'Volcanic Island', 'Great Barrier Reef', 'Shogran']\n",
      "List after sort(): ['AL AQSA', 'Great Barrier Reef', 'KARBALA', 'Shogran', 'Volcanic Island']\n",
      "List after reverse sort(): ['Volcanic Island', 'Shogran', 'KARBALA', 'Great Barrier Reef', 'AL AQSA']\n"
     ]
    }
   ],
   "source": [
    "# Task No. 3-8\n",
    "# Creat a list in Original ordeer.\n",
    "places = ['KARBALA', 'AL AQSA', 'Volcanic Island', 'Great Barrier Reef', 'Shogran']\n",
    "print(\"Original order:\", places)\n",
    "# Alphabetical order\n",
    "print(\"Alphabetical order:\", sorted(places))\n",
    "# show that original list is unchanged.\n",
    "print(\"Original order after sorted():\", places)\n",
    "print(\"Reverse alphabetical order:\", sorted(places, reverse=True))\n",
    "# Show that the list is still in its original order\n",
    "print(\"Original order after reverse sorted():\", places)\n",
    "# Change the order of the list using reverse()\n",
    "places.reverse()\n",
    "print(\"Order after reverse():\", places)\n",
    "# Reverse the order again to get back to the original order\n",
    "places.reverse()\n",
    "print(\"Order after reversing again:\", places)\n",
    "# Sort the list in alphabetical order and store it\n",
    "places.sort()\n",
    "print(\"List after sort():\", places)\n",
    "\n",
    "# Sort the list in reverse-alphabetical order and store it\n",
    "places.sort(reverse=True)\n",
    "print(\"List after reverse sort():\", places)"
   ]
  },
  {
   "cell_type": "code",
   "execution_count": 18,
   "metadata": {},
   "outputs": [
    {
     "name": "stdout",
     "output_type": "stream",
     "text": [
      "['Pakistan', 'China', 'Russia', 'Iran', 'Kashmir']\n",
      "['Palestine', 'Pakistan', 'China', 'Iraq', 'Russia', 'Iran', 'Kashmir', 'Syria']\n",
      "['Palestine', 'Pakistan', 'Iraq', 'Russia', 'Iran', 'Syria']\n",
      "Alphabetical order: ['Iran', 'Iraq', 'Pakistan', 'Palestine', 'Russia', 'Syria']\n",
      "reverse alphabetical order: ['Syria', 'Russia', 'Palestine', 'Pakistan', 'Iraq', 'Iran']\n",
      "first reverse  order change: ['Syria', 'Iran', 'Russia', 'Iraq', 'Pakistan', 'Palestine']\n",
      "go back to original order: ['Palestine', 'Pakistan', 'Iraq', 'Russia', 'Iran', 'Syria']\n",
      "List after sort: ['Iran', 'Iraq', 'Pakistan', 'Palestine', 'Russia', 'Syria']\n",
      "List after reverse alphabet: ['Syria', 'Russia', 'Palestine', 'Pakistan', 'Iraq', 'Iran']\n",
      "empty list: []\n"
     ]
    }
   ],
   "source": [
    "# Task No. 3-9\n",
    "Country_list = ['Pakistan', 'China', 'Russia', 'Iran', 'India']\n",
    "# Modifying list\n",
    "Country_list[-1] = 'Kashmir'\n",
    "print(Country_list)\n",
    "# Expanding List in starting, middle and end.\n",
    "Country_list.insert(0, 'Palestine')\n",
    "Country_list.insert (3, 'Iraq')\n",
    "Country_list.append ('Syria')\n",
    "print(Country_list)\n",
    "# Shrinking List by removing names of the country\n",
    "removed_list = Country_list.pop(2)\n",
    "removed_guest = Country_list.pop(5)\n",
    "print(Country_list)\n",
    "#  Arranging in Alphabetical order\n",
    "print (\"Alphabetical order:\", sorted(Country_list))\n",
    "# arranging in reverse alphabetical order\n",
    "print(\"reverse alphabetical order:\", sorted(Country_list, reverse= True))\n",
    "# changing the order of list by reverse \n",
    "Country_list.reverse()\n",
    "print(\"first reverse  order change:\", Country_list)\n",
    "#  reversing again we go back to original list\n",
    "Country_list.reverse()\n",
    "print(\"go back to original order:\",  Country_list)\n",
    "# sort the list in alphabetical order and store it.\n",
    "Country_list.sort()\n",
    "print(\"List after sort:\", Country_list)\n",
    "# sort the list in reverse alphabetical order and store it.\n",
    "Country_list.sort(reverse=True)\n",
    "print(\"List after reverse alphabet:\", Country_list)\n",
    "del Country_list[0]\n",
    "del Country_list[3]\n",
    "del Country_list[-1]\n",
    "del Country_list[:]\n",
    "print(\"empty list:\",  Country_list)"
   ]
  },
  {
   "cell_type": "code",
   "execution_count": 1,
   "metadata": {},
   "outputs": [
    {
     "name": "stdout",
     "output_type": "stream",
     "text": [
      "Accessing an out-of-range index:\n"
     ]
    },
    {
     "ename": "IndexError",
     "evalue": "list index out of range",
     "output_type": "error",
     "traceback": [
      "\u001b[1;31m---------------------------------------------------------------------------\u001b[0m",
      "\u001b[1;31mIndexError\u001b[0m                                Traceback (most recent call last)",
      "Cell \u001b[1;32mIn[1], line 6\u001b[0m\n\u001b[0;32m      4\u001b[0m \u001b[38;5;66;03m# intentionaly index error\u001b[39;00m\n\u001b[0;32m      5\u001b[0m \u001b[38;5;28mprint\u001b[39m(\u001b[38;5;124m\"\u001b[39m\u001b[38;5;124mAccessing an out-of-range index:\u001b[39m\u001b[38;5;124m\"\u001b[39m)\n\u001b[1;32m----> 6\u001b[0m \u001b[38;5;28mprint\u001b[39m(\u001b[43mCountry_list\u001b[49m\u001b[43m[\u001b[49m\u001b[38;5;241;43m5\u001b[39;49m\u001b[43m]\u001b[49m)  \u001b[38;5;66;03m# This will cause an IndexError\u001b[39;00m\n",
      "\u001b[1;31mIndexError\u001b[0m: list index out of range"
     ]
    }
   ],
   "source": [
    "# Task No. 3-10 part 1\n",
    "# Create a list of countries\n",
    "Country_list = ['Pakistan', 'China', 'Russia', 'Iran', 'India']\n",
    "# intentional index error\n",
    "print(\"Accessing an out-of-range index:\")\n",
    "print(Country_list[5])  # This will cause an IndexError\n",
    "\n"
   ]
  },
  {
   "cell_type": "code",
   "execution_count": 2,
   "metadata": {},
   "outputs": [
    {
     "name": "stdout",
     "output_type": "stream",
     "text": [
      "Index out of range.\n"
     ]
    }
   ],
   "source": [
    "# Task No. 3-10 b\n",
    "# Correct way: Ensure index is within range\n",
    "if len(Country_list) > 5:\n",
    "    print(Country_list[5])\n",
    "else:\n",
    "    print(\"Index out of range.\")\n"
   ]
  }
 ],
 "metadata": {
  "kernelspec": {
   "display_name": "Python 3",
   "language": "python",
   "name": "python3"
  },
  "language_info": {
   "codemirror_mode": {
    "name": "ipython",
    "version": 3
   },
   "file_extension": ".py",
   "mimetype": "text/x-python",
   "name": "python",
   "nbconvert_exporter": "python",
   "pygments_lexer": "ipython3",
   "version": "3.12.5"
  }
 },
 "nbformat": 4,
 "nbformat_minor": 2
}
